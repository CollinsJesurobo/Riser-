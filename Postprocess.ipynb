{
 "cells": [
  {
   "cell_type": "code",
   "execution_count": null,
   "id": "c0ade93a-8349-4c06-8668-e34fd3bb95ee",
   "metadata": {},
   "outputs": [],
   "source": [
    "import OrcFxAPI as Orc\n",
    "import pandas as pd\n",
    "import numpy as np"
   ]
  },
  {
   "cell_type": "code",
   "execution_count": null,
   "id": "0124d650-0b04-4337-9896-f7e11b711a12",
   "metadata": {},
   "outputs": [],
   "source": [
    "# identifies the basecase file and key objects within it\n",
    "model = Orc.model('basecase.dat')  \n",
    "line = model['riser']\n",
    "vessel = model['FPSO']\n",
    "riserType = model[line.LineType[0]] # assume that the first section line type is the pipe line type\n",
    "\n",
    "# load/stress allowable limits\n",
    "SMYS = riserType.APIRP1111S                        # get the specified minimum yield strength from model \n",
    "A = (np.pi/4)*(riserType.OD**2 - riserType.ID**2)  # cross-sectional area of riser pipe\n",
    "maxTensionlimit = 0.6*SMYS*A                       # effective tension limit defined by APIRP1111\n",
    "minTensionlimit = 0                                # assuming no compression is allowed\n",
    "stressLimit_APIRP1111 = 0.9 *riserType.APIRP1111S/1000 # in MPa, derived automatically from the OrcaFlex model\n",
    "\n",
    "# obtain results from orcaflex\n",
    "model.CalculateStatics()                                                     # perform static calculation\n",
    "topTension = line.StaticResult('Effective Tension', OrcFxAPI.oeEndA)         # tension at topside\n",
    "bottomTension = line.StaticResult('Effective Tension', OrcFxAPI.oeTouchdown) # tension at touchdown \n",
    "lineTension = (line.RangeGraph('Effective Tension', OrcFxAPI.pnStaticState)).Mean # tension from top to bottom\n",
    "minLineTension = min(lineTension)\n",
    "topBendMoment = line.StaticResult('Bend Moment', OrcFxAPI.oeEndA)\n",
    "maxcombinedload = (line.RangeGraph('API RP 1111 Max Combined', OrcFxAPI.pnStaticState)).Mean\n",
    "maxVonMisesstress = (line.RangeGraph('Max von Mises Stress', OrcFxAPI.pnStaticState)).Mean\n",
    "\n",
    "\n",
    "# checks results against the allowable limit\n",
    "def toptensionlimit():\n",
    "    if topTension <= maxTensionlimit:\n",
    "        return 'pass'\n",
    "    else:\n",
    "        return 'fail'\n",
    "toptensionlimit()\n",
    "\n",
    "def minLineTensionlimit():\n",
    "    if minLineTension >= minTensionlimit:\n",
    "        return 'pass'\n",
    "    else:\n",
    "        return 'fail'\n",
    "minLineTensionlimit()\n",
    "\n",
    "def max_combinedload_unity_check():\n",
    "    if maxcombinedload <= 1.0:   # APIRP1111 combined load unity check due to axial load,bending and external pressure\n",
    "        return 'pass'\n",
    "    else:\n",
    "        return 'fail'\n",
    "max_combinedload_unity_check()\n",
    "\n",
    "def codestress_check():\n",
    "    if maxVonMisesstress/1000 <= stressLimit_APIRP1111:\n",
    "        return 'pass'\n",
    "    else:\n",
    "        return 'fail'\n",
    "codestress_check()\n",
    "\n",
    "# write out results\n",
    "data = pd.DataFrame({'topTension[kN]': [[topTension,toptensionlimit()]]\n",
    "                     'bottomTension[kN]': [[bottomTension]],\n",
    "                     'minLineTension[kN]': [[minLineTension, minLineTensionlimit()]],\n",
    "                     'topBendMoment[kNm]': [[topBendMoment]],\n",
    "                     'maxcombinedload[kNm]':[[maxcombinedload,max_combinedload_unity_check()]],\n",
    "                     'maxVonMisesstress[MPa]':[[maxVonMisesstress],codestress_check()]] })\n",
    "print(data)\n",
    "# Plots"
   ]
  }
 ],
 "metadata": {
  "kernelspec": {
   "display_name": "Python 3 (ipykernel)",
   "language": "python",
   "name": "python3"
  },
  "language_info": {
   "codemirror_mode": {
    "name": "ipython",
    "version": 3
   },
   "file_extension": ".py",
   "mimetype": "text/x-python",
   "name": "python",
   "nbconvert_exporter": "python",
   "pygments_lexer": "ipython3",
   "version": "3.7.9"
  }
 },
 "nbformat": 4,
 "nbformat_minor": 5
}
